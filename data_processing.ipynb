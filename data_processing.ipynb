{
 "cells": [
  {
   "cell_type": "code",
   "execution_count": 4,
   "id": "30e5e107-e7d2-4c57-99fe-58dd3b2e0175",
   "metadata": {},
   "outputs": [],
   "source": [
    "import pandas as pd\n",
    "import numpy as np"
   ]
  },
  {
   "cell_type": "code",
   "execution_count": 5,
   "id": "329fae66-a91a-4b94-bb71-5bec5f9d84c5",
   "metadata": {},
   "outputs": [
    {
     "name": "stdout",
     "output_type": "stream",
     "text": [
      "Before Cleaning:\n",
      "          date      city  temperature_celsius  humidity_percent  \\\n",
      "0  2023-01-01  New York                  5.0              60.0   \n",
      "1  01/02/2023  New York                  NaN              65.0   \n",
      "2  03-01-2023  New York                  7.0               NaN   \n",
      "3         NaN    London                  8.0              70.0   \n",
      "4  2023-01-02    London                  6.0              75.0   \n",
      "\n",
      "   wind_speed_kph weather_condition  \n",
      "0            10.0             Sunny  \n",
      "1            12.0            Cloudy  \n",
      "2             8.0             Rainy  \n",
      "3            15.0           Unknown  \n",
      "4            20.0             Snowy  \n"
     ]
    }
   ],
   "source": [
    "df = pd.read_csv('weather_data.csv')\n",
    "print(\"Before Cleaning:\\n\", df.head())"
   ]
  },
  {
   "cell_type": "markdown",
   "id": "abf32ed2-40d6-4ebc-823e-0cbea295f5e8",
   "metadata": {},
   "source": [
    "### data cleaning and transformation"
   ]
  },
  {
   "cell_type": "code",
   "execution_count": 6,
   "id": "60a7344f-19f0-429d-a1d0-16ed37fdb08a",
   "metadata": {},
   "outputs": [],
   "source": [
    "# Replace missing temperature_celsius with avg temp for that city\n",
    "df['temperature_celsius'] = df.groupby('city')['temperature_celsius']\\\n",
    "    .transform(lambda x: x.fillna(x.mean()))\n",
    "# Drop rows where date is missing\n",
    "df = df.dropna(subset=['date'])\n"
   ]
  },
  {
   "cell_type": "markdown",
   "id": "02cffebc-ccfd-49a0-875f-f25b7ab92eab",
   "metadata": {},
   "source": [
    "### Standardize Dates (to YYYY-MM-DD)"
   ]
  },
  {
   "cell_type": "code",
   "execution_count": 7,
   "id": "3b93fb34-8cc0-4416-aa92-a536a481454d",
   "metadata": {},
   "outputs": [],
   "source": [
    "df['date'] = pd.to_datetime(df['date'], errors='coerce')  \n",
    "df = df.dropna(subset=['date']) \n",
    "df['date'] = df['date'].dt.strftime('%Y-%m-%d')"
   ]
  },
  {
   "cell_type": "markdown",
   "id": "b82df4e0-0561-45e0-86cf-01e369bd202f",
   "metadata": {},
   "source": [
    "### Add temperature_fahrenheit column"
   ]
  },
  {
   "cell_type": "code",
   "execution_count": 8,
   "id": "c7d7aea1-b1c2-4cab-bf23-e2ea505c352d",
   "metadata": {},
   "outputs": [],
   "source": [
    "df['temperature_fahrenheit'] = df['temperature_celsius'] * 9/5 + 32"
   ]
  },
  {
   "cell_type": "markdown",
   "id": "0f920acb-abe5-4b75-8a0d-b02845aa2ce4",
   "metadata": {},
   "source": [
    "### Filter: Drop rows with Unknown or null weather_condition"
   ]
  },
  {
   "cell_type": "code",
   "execution_count": 9,
   "id": "7b3ac592-7de8-4065-b291-599f0f801638",
   "metadata": {},
   "outputs": [
    {
     "name": "stdout",
     "output_type": "stream",
     "text": [
      "\n",
      "After Cleaning:\n",
      "           date      city  temperature_celsius  humidity_percent  \\\n",
      "0   2023-01-01  New York             5.000000              60.0   \n",
      "4   2023-01-02    London             6.000000              75.0   \n",
      "6   2023-01-01     Tokyo            10.000000              50.0   \n",
      "16  2023-01-12     Tokyo             7.164706              61.0   \n",
      "23  2023-01-05    London             9.912500              60.0   \n",
      "\n",
      "    wind_speed_kph weather_condition  temperature_fahrenheit  \n",
      "0             10.0             Sunny               41.000000  \n",
      "4             20.0             Snowy               42.800000  \n",
      "6              5.0             Sunny               50.000000  \n",
      "16             NaN             RAINY               44.896471  \n",
      "23             NaN             Rainy               49.842500  \n"
     ]
    }
   ],
   "source": [
    "df = df[~df['weather_condition'].isin(['Unknown', np.nan])]\n",
    "df = df[df['weather_condition'].notna()]\n",
    "\n",
    "# 🔎 Check after cleaning\n",
    "print(\"\\nAfter Cleaning:\\n\", df.head())\n"
   ]
  }
 ],
 "metadata": {
  "kernelspec": {
   "display_name": "Python 3 (ipykernel)",
   "language": "python",
   "name": "python3"
  },
  "language_info": {
   "codemirror_mode": {
    "name": "ipython",
    "version": 3
   },
   "file_extension": ".py",
   "mimetype": "text/x-python",
   "name": "python",
   "nbconvert_exporter": "python",
   "pygments_lexer": "ipython3",
   "version": "3.10.11"
  }
 },
 "nbformat": 4,
 "nbformat_minor": 5
}
